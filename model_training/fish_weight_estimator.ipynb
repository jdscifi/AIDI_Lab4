{
 "cells": [
  {
   "cell_type": "code",
   "execution_count": 380,
   "id": "594b9ed5",
   "metadata": {},
   "outputs": [],
   "source": [
    "import pandas as pd\n",
    "import sklearn as sk\n",
    "import matplotlib.pyplot as plt\n",
    "import seaborn as sb\n",
    "from sklearn.linear_model import RidgeCV,LinearRegression,SGDRegressor,Ridge\n",
    "from sklearn.model_selection import GridSearchCV\n",
    "from sklearn.feature_selection import RFE\n",
    "from sklearn.feature_selection import SelectKBest, chi2\n",
    "from sklearn.metrics import mean_squared_error,r2_score\n",
    "from sklearn.preprocessing import PolynomialFeatures\n",
    "import numpy as np\n",
    "import pickle\n",
    "from sklearn.model_selection import train_test_split"
   ]
  },
  {
   "cell_type": "code",
   "execution_count": 381,
   "id": "659ee47d",
   "metadata": {},
   "outputs": [],
   "source": [
    "dataset = pd.read_csv(\"Fish.csv\")"
   ]
  },
  {
   "cell_type": "code",
   "execution_count": 382,
   "id": "8b11b9cf",
   "metadata": {
    "scrolled": true
   },
   "outputs": [
    {
     "data": {
      "text/html": [
       "<div>\n",
       "<style scoped>\n",
       "    .dataframe tbody tr th:only-of-type {\n",
       "        vertical-align: middle;\n",
       "    }\n",
       "\n",
       "    .dataframe tbody tr th {\n",
       "        vertical-align: top;\n",
       "    }\n",
       "\n",
       "    .dataframe thead th {\n",
       "        text-align: right;\n",
       "    }\n",
       "</style>\n",
       "<table border=\"1\" class=\"dataframe\">\n",
       "  <thead>\n",
       "    <tr style=\"text-align: right;\">\n",
       "      <th></th>\n",
       "      <th>species</th>\n",
       "      <th>weight</th>\n",
       "      <th>length1</th>\n",
       "      <th>length2</th>\n",
       "      <th>length3</th>\n",
       "      <th>height</th>\n",
       "      <th>width</th>\n",
       "    </tr>\n",
       "  </thead>\n",
       "  <tbody>\n",
       "    <tr>\n",
       "      <th>0</th>\n",
       "      <td>Bream</td>\n",
       "      <td>242.0</td>\n",
       "      <td>23.2</td>\n",
       "      <td>25.4</td>\n",
       "      <td>30.0</td>\n",
       "      <td>11.5200</td>\n",
       "      <td>4.0200</td>\n",
       "    </tr>\n",
       "    <tr>\n",
       "      <th>1</th>\n",
       "      <td>Bream</td>\n",
       "      <td>290.0</td>\n",
       "      <td>24.0</td>\n",
       "      <td>26.3</td>\n",
       "      <td>31.2</td>\n",
       "      <td>12.4800</td>\n",
       "      <td>4.3056</td>\n",
       "    </tr>\n",
       "    <tr>\n",
       "      <th>2</th>\n",
       "      <td>Bream</td>\n",
       "      <td>340.0</td>\n",
       "      <td>23.9</td>\n",
       "      <td>26.5</td>\n",
       "      <td>31.1</td>\n",
       "      <td>12.3778</td>\n",
       "      <td>4.6961</td>\n",
       "    </tr>\n",
       "    <tr>\n",
       "      <th>3</th>\n",
       "      <td>Bream</td>\n",
       "      <td>363.0</td>\n",
       "      <td>26.3</td>\n",
       "      <td>29.0</td>\n",
       "      <td>33.5</td>\n",
       "      <td>12.7300</td>\n",
       "      <td>4.4555</td>\n",
       "    </tr>\n",
       "    <tr>\n",
       "      <th>4</th>\n",
       "      <td>Bream</td>\n",
       "      <td>430.0</td>\n",
       "      <td>26.5</td>\n",
       "      <td>29.0</td>\n",
       "      <td>34.0</td>\n",
       "      <td>12.4440</td>\n",
       "      <td>5.1340</td>\n",
       "    </tr>\n",
       "  </tbody>\n",
       "</table>\n",
       "</div>"
      ],
      "text/plain": [
       "  species  weight  length1  length2  length3   height   width\n",
       "0   Bream   242.0     23.2     25.4     30.0  11.5200  4.0200\n",
       "1   Bream   290.0     24.0     26.3     31.2  12.4800  4.3056\n",
       "2   Bream   340.0     23.9     26.5     31.1  12.3778  4.6961\n",
       "3   Bream   363.0     26.3     29.0     33.5  12.7300  4.4555\n",
       "4   Bream   430.0     26.5     29.0     34.0  12.4440  5.1340"
      ]
     },
     "execution_count": 382,
     "metadata": {},
     "output_type": "execute_result"
    }
   ],
   "source": [
    "dataset.head(5)"
   ]
  },
  {
   "cell_type": "code",
   "execution_count": 383,
   "id": "03a8a19b",
   "metadata": {
    "scrolled": true
   },
   "outputs": [
    {
     "data": {
      "text/html": [
       "<div>\n",
       "<style scoped>\n",
       "    .dataframe tbody tr th:only-of-type {\n",
       "        vertical-align: middle;\n",
       "    }\n",
       "\n",
       "    .dataframe tbody tr th {\n",
       "        vertical-align: top;\n",
       "    }\n",
       "\n",
       "    .dataframe thead th {\n",
       "        text-align: right;\n",
       "    }\n",
       "</style>\n",
       "<table border=\"1\" class=\"dataframe\">\n",
       "  <thead>\n",
       "    <tr style=\"text-align: right;\">\n",
       "      <th></th>\n",
       "      <th>weight</th>\n",
       "      <th>length1</th>\n",
       "      <th>length2</th>\n",
       "      <th>length3</th>\n",
       "      <th>height</th>\n",
       "      <th>width</th>\n",
       "    </tr>\n",
       "  </thead>\n",
       "  <tbody>\n",
       "    <tr>\n",
       "      <th>count</th>\n",
       "      <td>159.000000</td>\n",
       "      <td>159.000000</td>\n",
       "      <td>159.000000</td>\n",
       "      <td>159.000000</td>\n",
       "      <td>159.000000</td>\n",
       "      <td>159.000000</td>\n",
       "    </tr>\n",
       "    <tr>\n",
       "      <th>mean</th>\n",
       "      <td>398.326415</td>\n",
       "      <td>26.247170</td>\n",
       "      <td>28.415723</td>\n",
       "      <td>31.227044</td>\n",
       "      <td>8.970994</td>\n",
       "      <td>4.417486</td>\n",
       "    </tr>\n",
       "    <tr>\n",
       "      <th>std</th>\n",
       "      <td>357.978317</td>\n",
       "      <td>9.996441</td>\n",
       "      <td>10.716328</td>\n",
       "      <td>11.610246</td>\n",
       "      <td>4.286208</td>\n",
       "      <td>1.685804</td>\n",
       "    </tr>\n",
       "    <tr>\n",
       "      <th>min</th>\n",
       "      <td>0.000000</td>\n",
       "      <td>7.500000</td>\n",
       "      <td>8.400000</td>\n",
       "      <td>8.800000</td>\n",
       "      <td>1.728400</td>\n",
       "      <td>1.047600</td>\n",
       "    </tr>\n",
       "    <tr>\n",
       "      <th>25%</th>\n",
       "      <td>120.000000</td>\n",
       "      <td>19.050000</td>\n",
       "      <td>21.000000</td>\n",
       "      <td>23.150000</td>\n",
       "      <td>5.944800</td>\n",
       "      <td>3.385650</td>\n",
       "    </tr>\n",
       "    <tr>\n",
       "      <th>50%</th>\n",
       "      <td>273.000000</td>\n",
       "      <td>25.200000</td>\n",
       "      <td>27.300000</td>\n",
       "      <td>29.400000</td>\n",
       "      <td>7.786000</td>\n",
       "      <td>4.248500</td>\n",
       "    </tr>\n",
       "    <tr>\n",
       "      <th>75%</th>\n",
       "      <td>650.000000</td>\n",
       "      <td>32.700000</td>\n",
       "      <td>35.500000</td>\n",
       "      <td>39.650000</td>\n",
       "      <td>12.365900</td>\n",
       "      <td>5.584500</td>\n",
       "    </tr>\n",
       "    <tr>\n",
       "      <th>max</th>\n",
       "      <td>1650.000000</td>\n",
       "      <td>59.000000</td>\n",
       "      <td>63.400000</td>\n",
       "      <td>68.000000</td>\n",
       "      <td>18.957000</td>\n",
       "      <td>8.142000</td>\n",
       "    </tr>\n",
       "  </tbody>\n",
       "</table>\n",
       "</div>"
      ],
      "text/plain": [
       "            weight     length1     length2     length3      height       width\n",
       "count   159.000000  159.000000  159.000000  159.000000  159.000000  159.000000\n",
       "mean    398.326415   26.247170   28.415723   31.227044    8.970994    4.417486\n",
       "std     357.978317    9.996441   10.716328   11.610246    4.286208    1.685804\n",
       "min       0.000000    7.500000    8.400000    8.800000    1.728400    1.047600\n",
       "25%     120.000000   19.050000   21.000000   23.150000    5.944800    3.385650\n",
       "50%     273.000000   25.200000   27.300000   29.400000    7.786000    4.248500\n",
       "75%     650.000000   32.700000   35.500000   39.650000   12.365900    5.584500\n",
       "max    1650.000000   59.000000   63.400000   68.000000   18.957000    8.142000"
      ]
     },
     "execution_count": 383,
     "metadata": {},
     "output_type": "execute_result"
    }
   ],
   "source": [
    "dataset.describe()"
   ]
  },
  {
   "cell_type": "code",
   "execution_count": 384,
   "id": "b93d35db",
   "metadata": {},
   "outputs": [
    {
     "data": {
      "text/html": [
       "<div>\n",
       "<style scoped>\n",
       "    .dataframe tbody tr th:only-of-type {\n",
       "        vertical-align: middle;\n",
       "    }\n",
       "\n",
       "    .dataframe tbody tr th {\n",
       "        vertical-align: top;\n",
       "    }\n",
       "\n",
       "    .dataframe thead th {\n",
       "        text-align: right;\n",
       "    }\n",
       "</style>\n",
       "<table border=\"1\" class=\"dataframe\">\n",
       "  <thead>\n",
       "    <tr style=\"text-align: right;\">\n",
       "      <th></th>\n",
       "      <th>weight</th>\n",
       "      <th>length1</th>\n",
       "      <th>length2</th>\n",
       "      <th>length3</th>\n",
       "      <th>height</th>\n",
       "      <th>width</th>\n",
       "      <th>species_Bream</th>\n",
       "      <th>species_Parkki</th>\n",
       "      <th>species_Perch</th>\n",
       "      <th>species_Pike</th>\n",
       "      <th>species_Roach</th>\n",
       "      <th>species_Smelt</th>\n",
       "      <th>species_Whitefish</th>\n",
       "    </tr>\n",
       "  </thead>\n",
       "  <tbody>\n",
       "    <tr>\n",
       "      <th>0</th>\n",
       "      <td>242.0</td>\n",
       "      <td>23.2</td>\n",
       "      <td>25.4</td>\n",
       "      <td>30.0</td>\n",
       "      <td>11.5200</td>\n",
       "      <td>4.0200</td>\n",
       "      <td>1</td>\n",
       "      <td>0</td>\n",
       "      <td>0</td>\n",
       "      <td>0</td>\n",
       "      <td>0</td>\n",
       "      <td>0</td>\n",
       "      <td>0</td>\n",
       "    </tr>\n",
       "    <tr>\n",
       "      <th>1</th>\n",
       "      <td>290.0</td>\n",
       "      <td>24.0</td>\n",
       "      <td>26.3</td>\n",
       "      <td>31.2</td>\n",
       "      <td>12.4800</td>\n",
       "      <td>4.3056</td>\n",
       "      <td>1</td>\n",
       "      <td>0</td>\n",
       "      <td>0</td>\n",
       "      <td>0</td>\n",
       "      <td>0</td>\n",
       "      <td>0</td>\n",
       "      <td>0</td>\n",
       "    </tr>\n",
       "    <tr>\n",
       "      <th>2</th>\n",
       "      <td>340.0</td>\n",
       "      <td>23.9</td>\n",
       "      <td>26.5</td>\n",
       "      <td>31.1</td>\n",
       "      <td>12.3778</td>\n",
       "      <td>4.6961</td>\n",
       "      <td>1</td>\n",
       "      <td>0</td>\n",
       "      <td>0</td>\n",
       "      <td>0</td>\n",
       "      <td>0</td>\n",
       "      <td>0</td>\n",
       "      <td>0</td>\n",
       "    </tr>\n",
       "    <tr>\n",
       "      <th>3</th>\n",
       "      <td>363.0</td>\n",
       "      <td>26.3</td>\n",
       "      <td>29.0</td>\n",
       "      <td>33.5</td>\n",
       "      <td>12.7300</td>\n",
       "      <td>4.4555</td>\n",
       "      <td>1</td>\n",
       "      <td>0</td>\n",
       "      <td>0</td>\n",
       "      <td>0</td>\n",
       "      <td>0</td>\n",
       "      <td>0</td>\n",
       "      <td>0</td>\n",
       "    </tr>\n",
       "    <tr>\n",
       "      <th>4</th>\n",
       "      <td>430.0</td>\n",
       "      <td>26.5</td>\n",
       "      <td>29.0</td>\n",
       "      <td>34.0</td>\n",
       "      <td>12.4440</td>\n",
       "      <td>5.1340</td>\n",
       "      <td>1</td>\n",
       "      <td>0</td>\n",
       "      <td>0</td>\n",
       "      <td>0</td>\n",
       "      <td>0</td>\n",
       "      <td>0</td>\n",
       "      <td>0</td>\n",
       "    </tr>\n",
       "    <tr>\n",
       "      <th>...</th>\n",
       "      <td>...</td>\n",
       "      <td>...</td>\n",
       "      <td>...</td>\n",
       "      <td>...</td>\n",
       "      <td>...</td>\n",
       "      <td>...</td>\n",
       "      <td>...</td>\n",
       "      <td>...</td>\n",
       "      <td>...</td>\n",
       "      <td>...</td>\n",
       "      <td>...</td>\n",
       "      <td>...</td>\n",
       "      <td>...</td>\n",
       "    </tr>\n",
       "    <tr>\n",
       "      <th>154</th>\n",
       "      <td>12.2</td>\n",
       "      <td>11.5</td>\n",
       "      <td>12.2</td>\n",
       "      <td>13.4</td>\n",
       "      <td>2.0904</td>\n",
       "      <td>1.3936</td>\n",
       "      <td>0</td>\n",
       "      <td>0</td>\n",
       "      <td>0</td>\n",
       "      <td>0</td>\n",
       "      <td>0</td>\n",
       "      <td>1</td>\n",
       "      <td>0</td>\n",
       "    </tr>\n",
       "    <tr>\n",
       "      <th>155</th>\n",
       "      <td>13.4</td>\n",
       "      <td>11.7</td>\n",
       "      <td>12.4</td>\n",
       "      <td>13.5</td>\n",
       "      <td>2.4300</td>\n",
       "      <td>1.2690</td>\n",
       "      <td>0</td>\n",
       "      <td>0</td>\n",
       "      <td>0</td>\n",
       "      <td>0</td>\n",
       "      <td>0</td>\n",
       "      <td>1</td>\n",
       "      <td>0</td>\n",
       "    </tr>\n",
       "    <tr>\n",
       "      <th>156</th>\n",
       "      <td>12.2</td>\n",
       "      <td>12.1</td>\n",
       "      <td>13.0</td>\n",
       "      <td>13.8</td>\n",
       "      <td>2.2770</td>\n",
       "      <td>1.2558</td>\n",
       "      <td>0</td>\n",
       "      <td>0</td>\n",
       "      <td>0</td>\n",
       "      <td>0</td>\n",
       "      <td>0</td>\n",
       "      <td>1</td>\n",
       "      <td>0</td>\n",
       "    </tr>\n",
       "    <tr>\n",
       "      <th>157</th>\n",
       "      <td>19.7</td>\n",
       "      <td>13.2</td>\n",
       "      <td>14.3</td>\n",
       "      <td>15.2</td>\n",
       "      <td>2.8728</td>\n",
       "      <td>2.0672</td>\n",
       "      <td>0</td>\n",
       "      <td>0</td>\n",
       "      <td>0</td>\n",
       "      <td>0</td>\n",
       "      <td>0</td>\n",
       "      <td>1</td>\n",
       "      <td>0</td>\n",
       "    </tr>\n",
       "    <tr>\n",
       "      <th>158</th>\n",
       "      <td>19.9</td>\n",
       "      <td>13.8</td>\n",
       "      <td>15.0</td>\n",
       "      <td>16.2</td>\n",
       "      <td>2.9322</td>\n",
       "      <td>1.8792</td>\n",
       "      <td>0</td>\n",
       "      <td>0</td>\n",
       "      <td>0</td>\n",
       "      <td>0</td>\n",
       "      <td>0</td>\n",
       "      <td>1</td>\n",
       "      <td>0</td>\n",
       "    </tr>\n",
       "  </tbody>\n",
       "</table>\n",
       "<p>159 rows × 13 columns</p>\n",
       "</div>"
      ],
      "text/plain": [
       "     weight  length1  length2  length3   height   width  species_Bream  \\\n",
       "0     242.0     23.2     25.4     30.0  11.5200  4.0200              1   \n",
       "1     290.0     24.0     26.3     31.2  12.4800  4.3056              1   \n",
       "2     340.0     23.9     26.5     31.1  12.3778  4.6961              1   \n",
       "3     363.0     26.3     29.0     33.5  12.7300  4.4555              1   \n",
       "4     430.0     26.5     29.0     34.0  12.4440  5.1340              1   \n",
       "..      ...      ...      ...      ...      ...     ...            ...   \n",
       "154    12.2     11.5     12.2     13.4   2.0904  1.3936              0   \n",
       "155    13.4     11.7     12.4     13.5   2.4300  1.2690              0   \n",
       "156    12.2     12.1     13.0     13.8   2.2770  1.2558              0   \n",
       "157    19.7     13.2     14.3     15.2   2.8728  2.0672              0   \n",
       "158    19.9     13.8     15.0     16.2   2.9322  1.8792              0   \n",
       "\n",
       "     species_Parkki  species_Perch  species_Pike  species_Roach  \\\n",
       "0                 0              0             0              0   \n",
       "1                 0              0             0              0   \n",
       "2                 0              0             0              0   \n",
       "3                 0              0             0              0   \n",
       "4                 0              0             0              0   \n",
       "..              ...            ...           ...            ...   \n",
       "154               0              0             0              0   \n",
       "155               0              0             0              0   \n",
       "156               0              0             0              0   \n",
       "157               0              0             0              0   \n",
       "158               0              0             0              0   \n",
       "\n",
       "     species_Smelt  species_Whitefish  \n",
       "0                0                  0  \n",
       "1                0                  0  \n",
       "2                0                  0  \n",
       "3                0                  0  \n",
       "4                0                  0  \n",
       "..             ...                ...  \n",
       "154              1                  0  \n",
       "155              1                  0  \n",
       "156              1                  0  \n",
       "157              1                  0  \n",
       "158              1                  0  \n",
       "\n",
       "[159 rows x 13 columns]"
      ]
     },
     "execution_count": 384,
     "metadata": {},
     "output_type": "execute_result"
    }
   ],
   "source": [
    "one_hot_enc = pd.get_dummies(dataset.species, prefix='species')\n",
    "fdata = pd.concat([dataset,one_hot_enc],axis=1).drop(columns=[\"species\"])\n",
    "fdata"
   ]
  },
  {
   "cell_type": "code",
   "execution_count": 385,
   "id": "82e23ab4",
   "metadata": {
    "scrolled": false
   },
   "outputs": [
    {
     "data": {
      "image/png": "[encoded data removed]",
      "text/plain": [
       "<Figure size 288x288 with 1 Axes>"
      ]
     },
     "metadata": {
      "needs_background": "light"
     },
     "output_type": "display_data"
    }
   ],
   "source": [
    "cord = fdata.corr()\n",
    "plt.matshow(cord)\n",
    "plt.show()"
   ]
  },
  {
   "cell_type": "code",
   "execution_count": 386,
   "id": "9462632f",
   "metadata": {},
   "outputs": [
    {
     "data": {
      "image/png": "[encoded data removed]",
      "text/plain": [
       "<Figure size 432x288 with 1 Axes>"
      ]
     },
     "metadata": {
      "needs_background": "light"
     },
     "output_type": "display_data"
    }
   ],
   "source": [
    "plt.bar(dataset['species'],dataset['weight'])\n",
    "plt.show()"
   ]
  },
  {
   "cell_type": "code",
   "execution_count": 387,
   "id": "ed003588",
   "metadata": {},
   "outputs": [],
   "source": [
    "def feature_ext(fdata):\n",
    "    y = fdata['weight']\n",
    "    y=y.astype('int')\n",
    "    X = fdata.drop(columns=['weight']) # ,'length1','length2','length3'])\n",
    "    X_train, X_test, y_train, y_test = train_test_split(X, y, test_size=0.15, random_state=42)\n",
    "    return X_train, X_test, y_train, y_test\n",
    "    # return X,y"
   ]
  },
  {
   "cell_type": "code",
   "execution_count": 388,
   "id": "9e525fc5",
   "metadata": {
    "scrolled": false
   },
   "outputs": [],
   "source": [
    "def poly_feature(features, degree_):\n",
    "    poly = PolynomialFeatures(degree=degree_)\n",
    "    return poly.fit_transform(features)"
   ]
  },
  {
   "cell_type": "code",
   "execution_count": 389,
   "id": "8a924ac0",
   "metadata": {
    "scrolled": true
   },
   "outputs": [],
   "source": [
    "def linear_regress(X,y):\n",
    "    regressed_model = LinearRegression(normalize=True)\n",
    "    return regressed_model.fit(X, y)"
   ]
  },
  {
   "cell_type": "code",
   "execution_count": 390,
   "id": "1293d1eb",
   "metadata": {},
   "outputs": [],
   "source": [
    "def model_metrics(model,test_x,test_y):\n",
    "    y_pred = model.predict(test_x)\n",
    "    return [y_pred, model.coef_, mean_squared_error(test_y, y_pred), r2_score(test_y, y_pred)]"
   ]
  },
  {
   "cell_type": "code",
   "execution_count": 391,
   "id": "c5a82975",
   "metadata": {},
   "outputs": [],
   "source": [
    "def plot_pred(predictions,label):\n",
    "    plt.scatter(predictions, label, color=\"blue\")\n",
    "    plt.scatter(label, label, color=\"red\", linewidth=3)\n",
    "    plt.xticks(())\n",
    "    plt.yticks(())\n",
    "    plt.title(\"Expected vs The Model\")\n",
    "    plt.show()"
   ]
  },
  {
   "cell_type": "code",
   "execution_count": 480,
   "id": "054b6fab",
   "metadata": {},
   "outputs": [],
   "source": [
    "def error_plotter(y_true,y_pred):\n",
    "    df = pd.DataFrame({\"tr\":y_true,\"pr\":y_pred})    \n",
    "    df[\"error\"] = (df[\"tr\"] - df[\"pr\"]).apply(lambda x: abs(x))\n",
    "    df[\"error_perc\"] = df['error'] / df['tr'] * 100\n",
    "    plt.scatter(df['tr'],df['error'], color=\"blue\")\n",
    "    plt.scatter(df['tr'],df['error_perc'], color=\"red\")\n",
    "    plt.axhline(y=0, color='black', linestyle='-')\n",
    "\n",
    "    plt.yscale(\"log\")\n",
    "    plt.show()"
   ]
  },
  {
   "cell_type": "code",
   "execution_count": 393,
   "id": "eebd89d1",
   "metadata": {},
   "outputs": [],
   "source": [
    "def save_model(fname,clf):\n",
    "    pickle.dump(clf, open(fname, 'wb'))"
   ]
  },
  {
   "cell_type": "code",
   "execution_count": 394,
   "id": "eb256cbb",
   "metadata": {},
   "outputs": [],
   "source": [
    "#X,y = feature_ext(fdata)"
   ]
  },
  {
   "cell_type": "code",
   "execution_count": 395,
   "id": "798a4d00",
   "metadata": {},
   "outputs": [],
   "source": [
    "X_train, X_test, y_train, y_test = feature_ext(fdata)"
   ]
  },
  {
   "cell_type": "code",
   "execution_count": 396,
   "id": "be7b5828",
   "metadata": {},
   "outputs": [
    {
     "data": {
      "image/png": "[encoded data removed]",
      "text/plain": [
       "<Figure size 432x288 with 1 Axes>"
      ]
     },
     "metadata": {
      "needs_background": "light"
     },
     "output_type": "display_data"
    }
   ],
   "source": [
    "plt.scatter(y_train,X_train['length1'],color=\"red\")\n",
    "plt.scatter(y_test,X_test['length1'])\n",
    "plt.show()"
   ]
  },
  {
   "cell_type": "code",
   "execution_count": 482,
   "id": "475ac76d",
   "metadata": {},
   "outputs": [],
   "source": [
    "X_ = poly_feature(X_train, 2)\n",
    "X_test_ = poly_feature(X_test, 2)"
   ]
  },
  {
   "cell_type": "code",
   "execution_count": 483,
   "id": "2127105f",
   "metadata": {},
   "outputs": [],
   "source": [
    "y = y_train"
   ]
  },
  {
   "cell_type": "code",
   "execution_count": 484,
   "id": "bd430483",
   "metadata": {},
   "outputs": [],
   "source": [
    "model = linear_regress(X_, y)"
   ]
  },
  {
   "cell_type": "code",
   "execution_count": 485,
   "id": "fb7754db",
   "metadata": {},
   "outputs": [
    {
     "name": "stdout",
     "output_type": "stream",
     "text": [
      "[5610.833333333333, 0.9582106869847608]\n"
     ]
    }
   ],
   "source": [
    "metrics = model_metrics(model,X_test_,y_test)\n",
    "print(metrics[2:4])"
   ]
  },
  {
   "cell_type": "code",
   "execution_count": 486,
   "id": "ac0cf5d2",
   "metadata": {},
   "outputs": [
    {
     "data": {
      "image/png": "[encoded data removed]",
      "text/plain": [
       "<Figure size 432x288 with 1 Axes>"
      ]
     },
     "metadata": {},
     "output_type": "display_data"
    }
   ],
   "source": [
    "plot_pred(metrics[0],y_test)"
   ]
  },
  {
   "cell_type": "code",
   "execution_count": 487,
   "id": "b10c23fe",
   "metadata": {},
   "outputs": [],
   "source": [
    "from sklearn.metrics import mean_absolute_percentage_error"
   ]
  },
  {
   "cell_type": "code",
   "execution_count": 488,
   "id": "ab787870",
   "metadata": {},
   "outputs": [
    {
     "data": {
      "text/plain": [
       "1876499844737707.0"
      ]
     },
     "execution_count": 488,
     "metadata": {},
     "output_type": "execute_result"
    }
   ],
   "source": [
    "mean_absolute_percentage_error(metrics[0],y_test)"
   ]
  },
  {
   "cell_type": "code",
   "execution_count": 489,
   "id": "985b25c2",
   "metadata": {},
   "outputs": [
    {
     "data": {
      "image/png": "[encoded data removed]",
      "text/plain": [
       "<Figure size 432x288 with 1 Axes>"
      ]
     },
     "metadata": {
      "needs_background": "light"
     },
     "output_type": "display_data"
    }
   ],
   "source": [
    "error_plotter(y_test,metrics[0])"
   ]
  },
  {
   "cell_type": "code",
   "execution_count": 490,
   "id": "2f166d5b",
   "metadata": {},
   "outputs": [],
   "source": [
    "# save_model(\"final_model.sav\",model)"
   ]
  },
  {
   "cell_type": "code",
   "execution_count": 491,
   "id": "a58c7aae",
   "metadata": {
    "scrolled": true
   },
   "outputs": [],
   "source": [
    "from sklearn.linear_model import LassoLarsCV\n",
    "reg = LassoLarsCV(cv=4, normalize=False, max_iter=50).fit(X_, y)"
   ]
  },
  {
   "cell_type": "code",
   "execution_count": 492,
   "id": "d81974e7",
   "metadata": {},
   "outputs": [
    {
     "name": "stdout",
     "output_type": "stream",
     "text": [
      "[(82.06238285105266, 78), (-10.15011949427874, 13), (170.06656763352646, 200), (260.33443509028064, 270), (142.1441192906218, 150), (896.2739968152216, 1000), (-13.354300601216394, 7), (204.004400114401, 180), (207.9785246364222, 188), (1308.1394578228897, 1250), (610.28121268345, 650), (852.3217292449816, 1000), (579.6327285483906, 600), (137.9464822338728, 150), (680.9827095241759, 700), (895.4476262426131, 920), (1100.2349126804006, 1000), (246.03622467952493, 218), (189.16752114925998, 225), (571.3875681609052, 700), (-12.764263035402593, 10), (588.119077522385, 610), (444.2465201521672, 500), (476.0603710605881, 500)]\n"
     ]
    }
   ],
   "source": [
    "print(list(zip(reg.predict(X_test_),y_test)))"
   ]
  },
  {
   "cell_type": "code",
   "execution_count": 493,
   "id": "744ca813",
   "metadata": {},
   "outputs": [
    {
     "name": "stdout",
     "output_type": "stream",
     "text": [
      "[3140.8453167365897, 0.9766070812879453]\n"
     ]
    }
   ],
   "source": [
    "metrics22 = model_metrics(reg,X_test_,y_test)\n",
    "print(metrics22[2:4])"
   ]
  },
  {
   "cell_type": "code",
   "execution_count": 494,
   "id": "4b9dc8ee",
   "metadata": {},
   "outputs": [
    {
     "data": {
      "text/plain": [
       "0.3137068227633229"
      ]
     },
     "execution_count": 494,
     "metadata": {},
     "output_type": "execute_result"
    }
   ],
   "source": [
    "mean_absolute_percentage_error(metrics22[0],y_test)"
   ]
  },
  {
   "cell_type": "code",
   "execution_count": 495,
   "id": "e4cd1600",
   "metadata": {},
   "outputs": [
    {
     "data": {
      "image/png": "[encoded data removed]",
      "text/plain": [
       "<Figure size 432x288 with 1 Axes>"
      ]
     },
     "metadata": {
      "needs_background": "light"
     },
     "output_type": "display_data"
    }
   ],
   "source": [
    "error_plotter(y_test,metrics22[0])"
   ]
  },
  {
   "cell_type": "code",
   "execution_count": 496,
   "id": "ed5e0690",
   "metadata": {},
   "outputs": [],
   "source": [
    "from sklearn.datasets import load_diabetes\n",
    "from sklearn.ensemble import GradientBoostingRegressor\n",
    "from sklearn.ensemble import RandomForestRegressor\n",
    "from sklearn.linear_model import LinearRegression\n",
    "from sklearn.ensemble import VotingRegressor\n",
    "\n",
    "reg1 = GradientBoostingRegressor(random_state=2)\n",
    "reg2 = RandomForestRegressor(random_state=2)\n",
    "reg3 = LinearRegression()\n",
    "ereg = VotingRegressor(estimators=[('gb', reg1), ('rf', reg2), ('lr', reg3)])\n",
    "ereg = ereg.fit(X_, y)"
   ]
  },
  {
   "cell_type": "code",
   "execution_count": 497,
   "id": "2b1ab28e",
   "metadata": {},
   "outputs": [
    {
     "name": "stdout",
     "output_type": "stream",
     "text": [
      "[(84.6155806923491, 78), (17.985655179356254, 13), (300.50667549426754, 200), (224.5446289237349, 270), (117.33841637506286, 150), (909.8853167841007, 1000), (4.415825892781714, 7), (229.5332682568196, 180), (184.30290576419793, 188), (1321.8899591187999, 1250), (629.7831950743813, 650), (970.4836863551977, 1000), (615.334286490855, 600), (133.4604342958775, 150), (685.7205752810283, 700), (935.7129211504686, 920), (1137.832338881376, 1000), (232.16044309713618, 218), (176.58559886103728, 225), (626.9385442960905, 700), (12.652114349245311, 10), (566.4679187066255, 610), (371.46525203347556, 500), (487.19866569557803, 500)]\n"
     ]
    }
   ],
   "source": [
    "print(list(zip(ereg.predict(X_test_),y_test)))"
   ]
  },
  {
   "cell_type": "code",
   "execution_count": 498,
   "id": "a6303eaa",
   "metadata": {
    "scrolled": true
   },
   "outputs": [
    {
     "data": {
      "image/png": "[encoded data removed]",
      "text/plain": [
       "<Figure size 432x288 with 1 Axes>"
      ]
     },
     "metadata": {},
     "output_type": "display_data"
    }
   ],
   "source": [
    "plot_pred(ereg.predict(X_test_),y_test)"
   ]
  },
  {
   "cell_type": "code",
   "execution_count": 499,
   "id": "b2c19eb8",
   "metadata": {},
   "outputs": [
    {
     "data": {
      "text/plain": [
       "3198.8607884277953"
      ]
     },
     "execution_count": 499,
     "metadata": {},
     "output_type": "execute_result"
    }
   ],
   "source": [
    "y_pred = ereg.predict(X_test_)\n",
    "mean_squared_error(y_test, y_pred)"
   ]
  },
  {
   "cell_type": "code",
   "execution_count": 500,
   "id": "8451fee6",
   "metadata": {},
   "outputs": [
    {
     "data": {
      "text/plain": [
       "0.15107089191982018"
      ]
     },
     "execution_count": 500,
     "metadata": {},
     "output_type": "execute_result"
    }
   ],
   "source": [
    "mean_absolute_percentage_error(y_pred,y_test)"
   ]
  },
  {
   "cell_type": "code",
   "execution_count": 501,
   "id": "798f8f76",
   "metadata": {},
   "outputs": [
    {
     "data": {
      "image/png": "[encoded data removed]",
      "text/plain": [
       "<Figure size 432x288 with 1 Axes>"
      ]
     },
     "metadata": {
      "needs_background": "light"
     },
     "output_type": "display_data"
    }
   ],
   "source": [
    "error_plotter(y_test,y_pred)"
   ]
  },
  {
   "cell_type": "code",
   "execution_count": 502,
   "id": "4ecfbe42",
   "metadata": {},
   "outputs": [],
   "source": [
    "from sklearn.linear_model import RidgeCV, LassoCV\n",
    "from sklearn.neighbors import KNeighborsRegressor\n",
    "estimators = [('ridge', RidgeCV()),('lasso', LassoCV(tol=1e-3)), ('knr', KNeighborsRegressor(n_neighbors=15,metric='euclidean'))]\n",
    "from sklearn.ensemble import GradientBoostingRegressor\n",
    "from sklearn.ensemble import StackingRegressor\n",
    "\n",
    "final_estimator = GradientBoostingRegressor(subsample=0.95)\n",
    "reg = StackingRegressor(estimators=estimators, final_estimator=final_estimator)\n",
    "\n",
    "ert = reg.fit(X_, y_train)"
   ]
  },
  {
   "cell_type": "code",
   "execution_count": 503,
   "id": "719fc4c2",
   "metadata": {},
   "outputs": [
    {
     "data": {
      "image/png": "[encoded data removed]",
      "text/plain": [
       "<Figure size 432x288 with 1 Axes>"
      ]
     },
     "metadata": {},
     "output_type": "display_data"
    }
   ],
   "source": [
    "plot_pred(ert.predict(X_test_),y_test)"
   ]
  },
  {
   "cell_type": "code",
   "execution_count": 504,
   "id": "e039763e",
   "metadata": {},
   "outputs": [
    {
     "data": {
      "text/plain": [
       "8628.18627414501"
      ]
     },
     "execution_count": 504,
     "metadata": {},
     "output_type": "execute_result"
    }
   ],
   "source": [
    "y_pred_8 = ert.predict(X_test_)\n",
    "mean_squared_error(y_test, y_pred_8)"
   ]
  },
  {
   "cell_type": "code",
   "execution_count": 505,
   "id": "29838a4f",
   "metadata": {},
   "outputs": [
    {
     "data": {
      "text/plain": [
       "0.12600897068756564"
      ]
     },
     "execution_count": 505,
     "metadata": {},
     "output_type": "execute_result"
    }
   ],
   "source": [
    "mean_absolute_percentage_error(y_pred_8,y_test)"
   ]
  },
  {
   "cell_type": "code",
   "execution_count": 506,
   "id": "522c94dd",
   "metadata": {},
   "outputs": [
    {
     "data": {
      "image/png": "[encoded data removed]",
      "text/plain": [
       "<Figure size 432x288 with 1 Axes>"
      ]
     },
     "metadata": {
      "needs_background": "light"
     },
     "output_type": "display_data"
    }
   ],
   "source": [
    "error_plotter(y_test,y_pred_8)"
   ]
  },
  {
   "cell_type": "code",
   "execution_count": 507,
   "id": "30c9f4f4",
   "metadata": {},
   "outputs": [],
   "source": [
    "from sklearn.linear_model import HuberRegressor, LinearRegression"
   ]
  },
  {
   "cell_type": "code",
   "execution_count": 508,
   "id": "7b621931",
   "metadata": {},
   "outputs": [
    {
     "name": "stderr",
     "output_type": "stream",
     "text": [
      "C:\\Python Envs\\jupyter\\lib\\site-packages\\sklearn\\linear_model\\_huber.py:296: ConvergenceWarning: lbfgs failed to converge (status=1):\n",
      "STOP: TOTAL NO. of f AND g EVALUATIONS EXCEEDS LIMIT.\n",
      "\n",
      "Increase the number of iterations (max_iter) or scale the data as shown in:\n",
      "    https://scikit-learn.org/stable/modules/preprocessing.html\n",
      "  self.n_iter_ = _check_optimize_result(\"lbfgs\", opt_res, self.max_iter)\n"
     ]
    }
   ],
   "source": [
    "huber = HuberRegressor(tol=1, max_iter=100000).fit(X_, y_train)"
   ]
  },
  {
   "cell_type": "code",
   "execution_count": 509,
   "id": "5734f038",
   "metadata": {},
   "outputs": [
    {
     "data": {
      "text/plain": [
       "0.9809355560119409"
      ]
     },
     "execution_count": 509,
     "metadata": {},
     "output_type": "execute_result"
    }
   ],
   "source": [
    "huber.score(X_test_, y_test)"
   ]
  },
  {
   "cell_type": "code",
   "execution_count": 510,
   "id": "b1b8297d",
   "metadata": {},
   "outputs": [
    {
     "data": {
      "text/plain": [
       "2559.6835671995927"
      ]
     },
     "execution_count": 510,
     "metadata": {},
     "output_type": "execute_result"
    }
   ],
   "source": [
    "y_pred_1 = huber.predict(X_test_)\n",
    "mean_squared_error(y_test, y_pred_1)"
   ]
  },
  {
   "cell_type": "code",
   "execution_count": 511,
   "id": "43da535e",
   "metadata": {},
   "outputs": [
    {
     "data": {
      "text/plain": [
       "0.10572915683517319"
      ]
     },
     "execution_count": 511,
     "metadata": {},
     "output_type": "execute_result"
    }
   ],
   "source": [
    "mean_absolute_percentage_error(y_pred_1,y_test)"
   ]
  },
  {
   "cell_type": "code",
   "execution_count": 512,
   "id": "3ccc732f",
   "metadata": {},
   "outputs": [
    {
     "data": {
      "image/png": "[encoded data removed]",
      "text/plain": [
       "<Figure size 432x288 with 1 Axes>"
      ]
     },
     "metadata": {},
     "output_type": "display_data"
    }
   ],
   "source": [
    "plot_pred(y_pred_1,y_test)"
   ]
  },
  {
   "cell_type": "code",
   "execution_count": 513,
   "id": "54d848c3",
   "metadata": {
    "scrolled": true
   },
   "outputs": [
    {
     "data": {
      "image/png": "[encoded data removed]",
      "text/plain": [
       "<Figure size 432x288 with 1 Axes>"
      ]
     },
     "metadata": {
      "needs_background": "light"
     },
     "output_type": "display_data"
    }
   ],
   "source": [
    "error_plotter(y_test,y_pred_1)"
   ]
  },
  {
   "cell_type": "code",
   "execution_count": 514,
   "id": "3f3dc1f8",
   "metadata": {},
   "outputs": [],
   "source": [
    "X = X_train\n",
    "y= y_train"
   ]
  },
  {
   "cell_type": "code",
   "execution_count": 515,
   "id": "aa0cb79d",
   "metadata": {},
   "outputs": [],
   "source": [
    "from sklearn.linear_model import RANSACRegressor\n",
    "from sklearn.datasets import make_regression\n",
    "reg22 = RANSACRegressor()\n",
    "eryu = reg22.fit(X_, y_train)"
   ]
  },
  {
   "cell_type": "code",
   "execution_count": 516,
   "id": "b2dd49e3",
   "metadata": {},
   "outputs": [
    {
     "data": {
      "text/plain": [
       "0.9634381525662208"
      ]
     },
     "execution_count": 516,
     "metadata": {},
     "output_type": "execute_result"
    }
   ],
   "source": [
    "reg22.score(X_test_, y_test)"
   ]
  },
  {
   "cell_type": "code",
   "execution_count": 517,
   "id": "094582df",
   "metadata": {},
   "outputs": [
    {
     "data": {
      "text/plain": [
       "4908.968765169382"
      ]
     },
     "execution_count": 517,
     "metadata": {},
     "output_type": "execute_result"
    }
   ],
   "source": [
    "y_pred_4 = reg22.predict(X_test_)\n",
    "mean_squared_error(y_test, y_pred_4)\n"
   ]
  },
  {
   "cell_type": "code",
   "execution_count": 518,
   "id": "6cdca85a",
   "metadata": {},
   "outputs": [
    {
     "data": {
      "text/plain": [
       "7.981759424565176"
      ]
     },
     "execution_count": 518,
     "metadata": {},
     "output_type": "execute_result"
    }
   ],
   "source": [
    "mean_absolute_percentage_error(y_pred_4,y_test)"
   ]
  },
  {
   "cell_type": "code",
   "execution_count": 519,
   "id": "2ef5b5a2",
   "metadata": {},
   "outputs": [],
   "source": [
    "save_model(\"RANSACRegressor_model.sav\",reg22)"
   ]
  },
  {
   "cell_type": "code",
   "execution_count": 472,
   "id": "58d039c0",
   "metadata": {
    "scrolled": true
   },
   "outputs": [
    {
     "data": {
      "text/plain": [
       "'import numpy as np\\nimport matplotlib.pyplot as plt\\n\\nfrom sklearn.datasets import make_regression\\nfrom sklearn.linear_model import HuberRegressor, Ridge\\n\\n# Generate toy data.\\nrng = np.random.RandomState(0)\\n# Add four strong outliers to the dataset.\\nplt.scatter(X[\\'length1\\'], y)\\n\\ncolors = [\"r-\", \"b-\", \"y-\", \"m-\"]\\n\\nx = np.linspace(X.min(), X.max(), 7)\\nepsilon_values = [1, 1.5, 1.75, 1.9]\\nfor k, epsilon in enumerate(epsilon_values):\\n    huber = HuberRegressor(alpha=0.0, epsilon=epsilon, tol=1,max_iter=10000)\\n    huber.fit(X, y)\\n    coef_ = huber.coef_ * x + huber.intercept_\\n    plt.plot(x, coef_, colors[k], label=\"huber loss, %s\" % epsilon)\\n\\n# Fit a ridge regressor to compare it to huber regressor.\\nridge = Ridge(alpha=0.0, random_state=0)\\nridge.fit(X, y)\\ncoef_ridge = ridge.coef_\\ncoef_ = ridge.coef_ * x + ridge.intercept_\\nplt.plot(x, coef_, \"g-\", label=\"ridge regression\")\\n\\nplt.title(\"Comparison of HuberRegressor vs Ridge\")\\nplt.xlabel(\"X\")\\nplt.ylabel(\"y\")\\nplt.legend(loc=0)\\nplt.show()'"
      ]
     },
     "execution_count": 472,
     "metadata": {},
     "output_type": "execute_result"
    }
   ],
   "source": [
    "\"\"\"import numpy as np\n",
    "import matplotlib.pyplot as plt\n",
    "\n",
    "from sklearn.datasets import make_regression\n",
    "from sklearn.linear_model import HuberRegressor, Ridge\n",
    "\n",
    "# Generate toy data.\n",
    "rng = np.random.RandomState(0)\n",
    "# Add four strong outliers to the dataset.\n",
    "plt.scatter(X['length1'], y)\n",
    "\n",
    "colors = [\"r-\", \"b-\", \"y-\", \"m-\"]\n",
    "\n",
    "x = np.linspace(X.min(), X.max(), 7)\n",
    "epsilon_values = [1, 1.5, 1.75, 1.9]\n",
    "for k, epsilon in enumerate(epsilon_values):\n",
    "    huber = HuberRegressor(alpha=0.0, epsilon=epsilon, tol=1,max_iter=10000)\n",
    "    huber.fit(X, y)\n",
    "    coef_ = huber.coef_ * x + huber.intercept_\n",
    "    plt.plot(x, coef_, colors[k], label=\"huber loss, %s\" % epsilon)\n",
    "\n",
    "# Fit a ridge regressor to compare it to huber regressor.\n",
    "ridge = Ridge(alpha=0.0, random_state=0)\n",
    "ridge.fit(X, y)\n",
    "coef_ridge = ridge.coef_\n",
    "coef_ = ridge.coef_ * x + ridge.intercept_\n",
    "plt.plot(x, coef_, \"g-\", label=\"ridge regression\")\n",
    "\n",
    "plt.title(\"Comparison of HuberRegressor vs Ridge\")\n",
    "plt.xlabel(\"X\")\n",
    "plt.ylabel(\"y\")\n",
    "plt.legend(loc=0)\n",
    "plt.show()\"\"\""
   ]
  },
  {
   "cell_type": "code",
   "execution_count": null,
   "id": "a6350cad",
   "metadata": {},
   "outputs": [],
   "source": []
  },
  {
   "cell_type": "code",
   "execution_count": null,
   "id": "5f71bd7a",
   "metadata": {},
   "outputs": [],
   "source": []
  }
 ],
 "metadata": {
  "kernelspec": {
   "display_name": "Python 3 (ipykernel)",
   "language": "python",
   "name": "python3"
  },
  "language_info": {
   "codemirror_mode": {
    "name": "ipython",
    "version": 3
   },
   "file_extension": ".py",
   "mimetype": "text/x-python",
   "name": "python",
   "nbconvert_exporter": "python",
   "pygments_lexer": "ipython3",
   "version": "3.9.12"
  }
 },
 "nbformat": 4,
 "nbformat_minor": 5
}
